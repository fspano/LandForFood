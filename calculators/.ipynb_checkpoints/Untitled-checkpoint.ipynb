{
 "cells": [
  {
   "cell_type": "code",
   "execution_count": 8,
   "metadata": {},
   "outputs": [
    {
     "name": "stdout",
     "output_type": "stream",
     "text": [
      "get to the end\n"
     ]
    }
   ],
   "source": [
    "import sys\n",
    "\n",
    "# this gets to the end\n",
    "#listsAreFilled = True\n",
    "#listsAreNotEqual = False\n",
    "\n",
    "listsAreFilled = True\n",
    "listsAreNotEqual = True\n",
    "\n",
    "try:\n",
    "# simple version\n",
    "# if listsAreFilled == False or listsAreNotEqual == True:\n",
    "#            raise ValueError\n",
    "#\n",
    "    if listsAreFilled == False:\n",
    "            raise ValueError(\"lists are not filled\")\n",
    "    if listsAreNotEqual == True :\n",
    "            raise ValueError(\"lists are not equal\")\n",
    "\n",
    "except ValueError:\n",
    "  print 'mistake'\n",
    "  raise\n",
    "  sys.exit(0)\n",
    "\n",
    "print 'get to the end'"
   ]
  },
  {
   "cell_type": "code",
   "execution_count": null,
   "metadata": {
    "collapsed": true
   },
   "outputs": [],
   "source": []
  }
 ],
 "metadata": {
  "kernelspec": {
   "display_name": "Python 2",
   "language": "python",
   "name": "python2"
  },
  "language_info": {
   "codemirror_mode": {
    "name": "ipython",
    "version": 2
   },
   "file_extension": ".py",
   "mimetype": "text/x-python",
   "name": "python",
   "nbconvert_exporter": "python",
   "pygments_lexer": "ipython2",
   "version": "2.7.13"
  }
 },
 "nbformat": 4,
 "nbformat_minor": 2
}
